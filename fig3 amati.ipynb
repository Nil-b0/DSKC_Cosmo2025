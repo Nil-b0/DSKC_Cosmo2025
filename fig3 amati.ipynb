{
 "cells": [
  {
   "cell_type": "code",
   "execution_count": 29,
   "id": "495fc4d1-3c14-44c3-adf2-5c6d8d4b2123",
   "metadata": {},
   "outputs": [],
   "source": [
    "import numpy as np\n",
    "import matplotlib.pyplot as plt\n",
    "from astropy.cosmology import FlatLambdaCDM\n",
    "import pandas as pd"
   ]
  },
  {
   "cell_type": "code",
   "execution_count": 30,
   "id": "54e4e625-233a-4ee0-8280-7ac7ea340c1e",
   "metadata": {},
   "outputs": [],
   "source": [
    "# ΛCDM1: Based on H(z) calibration\n",
    "cosmo1 = FlatLambdaCDM(H0=69.43, Om0=0.309)\n",
    "\n",
    "# ΛCDM2: Based on Pantheon+ calibration\n",
    "cosmo2 = FlatLambdaCDM(H0=73.6, Om0=0.334)\n"
   ]
  },
  {
   "cell_type": "code",
   "execution_count": 31,
   "id": "f3a4e625-f442-4a3b-8eb2-9ee4fade023b",
   "metadata": {},
   "outputs": [],
   "source": [
    "# Redshift grid from 0 to 9\n",
    "z_vals = np.linspace(0.01, 9, 500)\n",
    "\n",
    "# Distance modulus from each cosmology\n",
    "mu_LCDM1 = cosmo1.distmod(z_vals).value\n",
    "mu_LCDM2 = cosmo2.distmod(z_vals).value\n"
   ]
  },
  {
   "cell_type": "code",
   "execution_count": 54,
   "id": "929f9272-aeb8-4e3f-96a1-cc85ba5f8945",
   "metadata": {},
   "outputs": [],
   "source": [
    "cmdc = pd.read_excel(\"A118.xlsx\")\n",
    "cmdc.head()\n",
    "#cmdi= cmdc[cmdc['z'] > 2.3].copy()\n",
    "cmd = cmdc.sort_values('z').reset_index(drop=True)\n",
    "#print(cmd)"
   ]
  },
  {
   "cell_type": "code",
   "execution_count": 55,
   "id": "acab21c2-d6a3-4df0-ada0-7d667b470980",
   "metadata": {},
   "outputs": [
    {
     "name": "stdout",
     "output_type": "stream",
     "text": [
      "[0.3399 0.48   0.49   0.54   0.544  0.6    0.6439 0.68   0.736  0.807\n",
      " 0.82   0.8969 1.063  1.16   1.17   1.21   1.24   1.29   1.3    1.368\n",
      " 1.406  1.44   1.44   1.46   1.48   1.48   1.489  1.52   1.547  1.547\n",
      " 1.563  1.567  1.6    1.604  1.608  1.61   1.619  1.6398 1.69   1.71\n",
      " 1.73   1.73   1.758  1.77   1.8    1.8    1.822  1.95   1.9685 1.98\n",
      " 2.01   2.06   2.07   2.09   2.1062 2.14   2.145  2.198  2.2    2.2\n",
      " 2.22   2.27   2.296  2.3    2.33   2.346  2.4    2.43   2.433  2.452\n",
      " 2.49   2.512  2.53   2.58   2.591  2.612  2.65   2.67   2.69   2.73\n",
      " 2.752  2.77   2.821  2.83   2.89   2.9    3.     3.036  3.038  3.1\n",
      " 3.2    3.21   3.35   3.36   3.37   3.42   3.425  3.51   3.512  3.53\n",
      " 3.57   3.6    3.6    3.76   3.8    3.9    3.93   4.04   4.048  4.109\n",
      " 4.35   4.5    5.     5.6    5.91   6.29   6.695  8.2   ]\n"
     ]
    }
   ],
   "source": [
    "cmd['z'] = pd.to_numeric(cmd['z'], errors='coerce')\n",
    "cmbdall = cmd['z']\n",
    "czall = np.array(cmbdall)\n",
    "print(czall)"
   ]
  },
  {
   "cell_type": "code",
   "execution_count": 56,
   "id": "8c1a051a-04cf-4dee-b9d5-9b35f4681733",
   "metadata": {},
   "outputs": [],
   "source": [
    "Ep = cmd['Ep (keV)'].str.split(' ± ').str[0].astype(float)\n",
    "Eperr = cmd['Ep (keV)'].str.split(' ± ').str[1].astype(float)\n",
    "Sboloo = cmd['S bolo (10^-5 erg/cm^2)'].str.split(' ± ').str[0].astype(float)\n",
    "Sberro = cmd['S bolo (10^-5 erg/cm^2)'].str.split(' ± ').str[1].astype(float)\n",
    "Sbolo = (Sboloo*1e-5) #Bolometric flux in erg/cm^2\n",
    "Sberr = (Sberro*1e-5)#Bolomrtric Flux error in erg/cm^2"
   ]
  },
  {
   "cell_type": "code",
   "execution_count": 57,
   "id": "42583bf1-820f-4dd9-919d-c011d4215ef4",
   "metadata": {},
   "outputs": [],
   "source": [
    "def mu_amati(z, E_p, S_bolo, a, b, sigma_ext):\n",
    "    x = np.log10(E_p / 300)\n",
    "    log_Eiso = a + b * x\n",
    "    Eiso = 10 ** log_Eiso\n",
    "    dl_cm = np.sqrt(Eiso * (1 + z) / (4 * np.pi * S_bolo))\n",
    "    dl_mpc = dl_cm / 3.085677581e24\n",
    "    mu = 5 * np.log10(dl_mpc) + 25\n",
    "    #sigma_mu = 5 * sigma_ext / 2\n",
    "    return mu"
   ]
  },
  {
   "cell_type": "code",
   "execution_count": 58,
   "id": "3a9b3a4a-012e-4bbb-bdf1-1cecf252191d",
   "metadata": {},
   "outputs": [
    {
     "name": "stdout",
     "output_type": "stream",
     "text": [
      "         z         mu  sigma_mu\n",
      "0   0.3399  41.215698  0.012055\n",
      "1   0.4800  41.972170  0.017899\n",
      "2   0.4900  42.013021  0.018262\n",
      "3   0.5400  42.250698  0.020124\n",
      "4   0.5440  42.272313  0.020303\n",
      "..     ...        ...       ...\n",
      "58  2.2000  46.156370  0.428504\n",
      "59  2.2000  46.156370  0.428504\n",
      "60  2.2200  46.162970  0.358176\n",
      "61  2.2700  46.102809  0.292121\n",
      "62  2.2960  46.023807  0.396172\n",
      "\n",
      "[63 rows x 3 columns]\n"
     ]
    }
   ],
   "source": [
    "pantheon = pd.read_csv(\"Pantheondist.csv\")\n",
    "print(pantheon)"
   ]
  },
  {
   "cell_type": "code",
   "execution_count": 59,
   "id": "1ed543db-5228-4949-93da-cdf5b161d8be",
   "metadata": {},
   "outputs": [],
   "source": [
    "# Amati calibration values (Pantheon+)\n",
    "ap = 52.502\n",
    "bp = 1.106\n",
    "sigma_extp = 0.440\n",
    "mup = mu_amati(czall, Ep, Sbolo, ap, bp, sigma_extp)\n",
    "sigma_mup = np.ones_like(mup) * 2.2"
   ]
  },
  {
   "cell_type": "code",
   "execution_count": 60,
   "id": "bb50a1d9-1cc8-4a53-957b-6b31f9288178",
   "metadata": {},
   "outputs": [
    {
     "name": "stdout",
     "output_type": "stream",
     "text": [
      "         z         mu  sigma_mu\n",
      "0   0.3399  41.308201  0.189574\n",
      "1   0.4800  42.193016  0.150832\n",
      "2   0.4900  42.257201  0.148424\n",
      "3   0.5400  42.469027  0.141901\n",
      "4   0.5440  42.518748  0.139930\n",
      "5   0.6000  42.760789  0.132876\n",
      "6   0.6439  42.967754  0.126901\n",
      "7   0.6800  43.116699  0.122986\n",
      "8   0.7360  43.312657  0.118397\n",
      "9   0.8070  43.566578  0.112633\n",
      "10  0.8200  43.607872  0.111783\n",
      "11  0.8969  43.841278  0.107222\n",
      "12  1.0630  44.283307  0.099610\n",
      "13  1.1600  44.517075  0.095849\n",
      "14  1.1700  44.542774  0.095410\n",
      "15  1.2100  44.628175  0.094128\n",
      "16  1.2400  44.686954  0.093301\n",
      "17  1.2900  44.791717  0.091706\n",
      "18  1.3000  44.814963  0.091320\n",
      "19  1.3680  44.944868  0.089466\n",
      "20  1.4060  45.017742  0.088420\n",
      "21  1.4400  45.085383  0.087429\n",
      "22  1.4400  45.085383  0.087429\n",
      "23  1.4600  45.127303  0.086802\n",
      "24  1.4800  45.156816  0.086499\n",
      "25  1.4800  45.156816  0.086499\n",
      "26  1.4890  45.176503  0.086203\n",
      "27  1.5200  45.226710  0.085636\n",
      "28  1.5470  45.284092  0.084847\n",
      "29  1.5470  45.284092  0.084847\n",
      "30  1.5630  45.308910  0.084602\n",
      "31  1.5670  45.312297  0.084602\n",
      "32  1.6000  45.373139  0.083923\n",
      "33  1.6040  45.376477  0.083923\n",
      "34  1.6080  45.379810  0.083923\n",
      "35  1.6100  45.392331  0.083717\n",
      "36  1.6190  45.399806  0.083717\n",
      "37  1.6398  45.438437  0.083335\n",
      "38  1.6900  45.521259  0.082700\n",
      "39  1.7100  45.557832  0.082449\n",
      "40  1.7300  45.583931  0.082341\n",
      "41  1.7300  45.583931  0.082341\n",
      "42  1.7580  45.626134  0.082160\n",
      "43  1.7700  45.645478  0.082088\n",
      "44  1.8000  45.698212  0.081944\n",
      "45  1.8000  45.698212  0.081944\n",
      "46  1.8220  45.734441  0.081910\n",
      "47  1.9500  45.923364  0.082510\n"
     ]
    }
   ],
   "source": [
    "hubble = pd.read_csv(\"Hubbledist.csv\")\n",
    "print(hubble)"
   ]
  },
  {
   "cell_type": "code",
   "execution_count": 65,
   "id": "50c94156-8a00-41b4-a5d1-ee4d5ec387e9",
   "metadata": {},
   "outputs": [
    {
     "name": "stdout",
     "output_type": "stream",
     "text": [
      " 0.340    40.101   2.200\n",
      " 0.480    42.142   2.200\n",
      " 0.490    41.186   2.200\n",
      " 0.540    41.269   2.200\n",
      " 0.544    41.855   2.200\n",
      " 0.600    42.128   2.200\n",
      " 0.644    41.250   2.200\n",
      " 0.680    40.179   2.200\n",
      " 0.736    43.589   2.200\n",
      " 0.807    43.641   2.200\n",
      " 0.820    42.739   2.200\n",
      " 0.897    43.901   2.200\n",
      " 1.063    44.188   2.200\n",
      " 1.160    44.702   2.200\n",
      " 1.170    45.158   2.200\n",
      " 1.210    42.777   2.200\n",
      " 1.240    41.040   2.200\n",
      " 1.290    44.770   2.200\n",
      " 1.300    42.853   2.200\n",
      " 1.368    43.634   2.200\n",
      " 1.406    41.678   2.200\n",
      " 1.440    44.319   2.200\n",
      " 1.440    44.219   2.200\n",
      " 1.460    43.710   2.200\n",
      " 1.480    44.832   2.200\n",
      " 1.480    42.761   2.200\n",
      " 1.489    44.421   2.200\n",
      " 1.520    42.655   2.200\n",
      " 1.547    43.129   2.200\n",
      " 1.547    44.834   2.200\n",
      " 1.563    43.971   2.200\n",
      " 1.567    43.084   2.200\n",
      " 1.600    42.813   2.200\n",
      " 1.604    45.108   2.200\n",
      " 1.608    45.658   2.200\n",
      " 1.610    44.275   2.200\n",
      " 1.619    43.981   2.200\n",
      " 1.640    44.214   2.200\n",
      " 1.690    43.666   2.200\n",
      " 1.710    46.956   2.200\n",
      " 1.730    43.578   2.200\n",
      " 1.730    43.386   2.200\n",
      " 1.758    43.681   2.200\n",
      " 1.770    42.650   2.200\n",
      " 1.800    44.796   2.200\n",
      " 1.800    44.565   2.200\n",
      " 1.822    43.071   2.200\n",
      " 1.950    45.622   2.200\n",
      " 1.968    44.619   2.200\n",
      " 1.980    44.416   2.200\n",
      " 2.010    46.925   2.200\n",
      " 2.060    45.015   2.200\n",
      " 2.070    43.780   2.200\n",
      " 2.090    46.336   2.200\n",
      " 2.106    42.935   2.200\n",
      " 2.140    44.981   2.200\n",
      " 2.145    46.417   2.200\n",
      " 2.198    46.032   2.200\n",
      " 2.200    43.223   2.200\n",
      " 2.200    44.722   2.200\n",
      " 2.220    44.612   2.200\n",
      " 2.270    45.515   2.200\n",
      " 2.296    44.680   2.200\n",
      " 2.300    46.134   2.200\n",
      " 2.330    44.922   2.200\n",
      " 2.346    46.306   2.200\n",
      " 2.400    44.802   2.200\n",
      " 2.430    45.887   2.200\n",
      " 2.433    46.329   2.200\n",
      " 2.452    45.962   2.200\n",
      " 2.490    44.286   2.200\n",
      " 2.512    42.122   2.200\n",
      " 2.530    43.902   2.200\n",
      " 2.580    45.510   2.200\n",
      " 2.591    44.821   2.200\n",
      " 2.612    44.723   2.200\n",
      " 2.650    46.078   2.200\n",
      " 2.670    44.525   2.200\n",
      " 2.690    45.733   2.200\n",
      " 2.730    44.900   2.200\n",
      " 2.752    45.497   2.200\n",
      " 2.770    45.070   2.200\n",
      " 2.821    45.446   2.200\n",
      " 2.830    45.647   2.200\n",
      " 2.890    47.302   2.200\n",
      " 2.900    44.872   2.200\n",
      " 3.000    45.669   2.200\n",
      " 3.036    44.771   2.200\n",
      " 3.038    45.006   2.200\n",
      " 3.100    43.808   2.200\n",
      " 3.200    45.402   2.200\n",
      " 3.210    46.162   2.200\n",
      " 3.350    46.415   2.200\n",
      " 3.360    46.685   2.200\n",
      " 3.370    47.337   2.200\n",
      " 3.420    46.316   2.200\n",
      " 3.425    46.684   2.200\n",
      " 3.510    44.652   2.200\n",
      " 3.512    47.266   2.200\n",
      " 3.530    46.644   2.200\n",
      " 3.570    44.530   2.200\n",
      " 3.600    45.137   2.200\n",
      " 3.600    46.796   2.200\n",
      " 3.760    46.716   2.200\n",
      " 3.800    46.072   2.200\n",
      " 3.900    46.494   2.200\n",
      " 3.930    46.266   2.200\n",
      " 4.040    48.206   2.200\n",
      " 4.048    47.780   2.200\n",
      " 4.109    46.011   2.200\n",
      " 4.350    46.613   2.200\n",
      " 4.500    45.161   2.200\n",
      " 5.000    46.754   2.200\n",
      " 5.600    47.582   2.200\n",
      " 5.910    48.730   2.200\n",
      " 6.290    47.799   2.200\n",
      " 6.695    49.112   2.200\n",
      " 8.200    48.863   2.200\n"
     ]
    }
   ],
   "source": [
    "# Amati calibration values Hubble\n",
    "ah = 52.590\n",
    "bh = 1.115\n",
    "sigma_exth = 0.437\n",
    "muh = mu_amati(czall, Ep, Sbolo, ah, bh, sigma_exth)\n",
    "sigma_muh = np.ones_like(muh) * 2.2\n",
    "for z_, mu_, sig_ in zip(czall, mup, sigma_mup):\n",
    "    print(f\"{z_:6.3f}  {mu_:8.3f}  {sig_:6.3f}\")"
   ]
  },
  {
   "cell_type": "code",
   "execution_count": 70,
   "id": "76f9fd6a-544d-4b71-bd75-5fb4845a27a8",
   "metadata": {},
   "outputs": [
    {
     "data": {
      "image/png": "[encoded data removed]",
      "text/plain": [
       "<Figure size 800x600 with 1 Axes>"
      ]
     },
     "metadata": {},
     "output_type": "display_data"
    },
    {
     "data": {
      "text/plain": [
       "<Figure size 640x480 with 0 Axes>"
      ]
     },
     "metadata": {},
     "output_type": "display_data"
    }
   ],
   "source": [
    "plt.figure(figsize=(8, 6))\n",
    "plt.ylim(35,55)\n",
    "plt.plot(z_vals, mu_LCDM1, 'g-', label=r'$\\Lambda$CDM1')\n",
    "plt.plot(z_vals, mu_LCDM2, 'g--', label=r'$\\Lambda$CDM2')\n",
    "plt.axvline(x=1.965, color='k', linestyle=':', label='z = 1.965 (low-z cutoff)')\n",
    "plt.xlabel('Redshift (z)')\n",
    "plt.ylabel('Distance Modulus (μ)')\n",
    "plt.errorbar(hubble['z'],hubble['mu'],yerr = hubble['sigma_mu'], fmt=' ', color='gold', label='H(z) Low GRB')\n",
    "plt.errorbar(pantheon['z'],pantheon['mu'], yerr=pantheon['sigma_mu'], fmt=' ', color='hotpink', label='Panthron+ Low GRB')\n",
    "plt.errorbar(czall, muh, yerr=sigmuh, fmt=' ', color='royalblue',elinewidth=2.4, label='H(z) All GRB')\n",
    "plt.errorbar(czall, mup, yerr=sigmup, fmt=' ', color='mediumpurple',elinewidth=2.4, label='Pantheon+ All GRB')\n",
    "plt.xlabel(\"Redshift $z$\")\n",
    "plt.ylabel(\"Distance Modulus $\\\\mu(z)$\")\n",
    "plt.title(\"Theoretical Hubble Diagram from ΛCDM Models\")\n",
    "plt.legend()\n",
    "plt.tight_layout()\n",
    "plt.show()\n",
    "plt.savefig('Figure 3 Amati.png', dpi=300, bbox_inches='tight')"
   ]
  },
  {
   "cell_type": "code",
   "execution_count": null,
   "id": "cb89ebf8-b1e3-4a97-add6-11f03ac64c5e",
   "metadata": {},
   "outputs": [],
   "source": []
  },
  {
   "cell_type": "code",
   "execution_count": null,
   "id": "14853e06-340a-404c-9de6-58ab2a6c8c15",
   "metadata": {},
   "outputs": [],
   "source": []
  }
 ],
 "metadata": {
  "kernelspec": {
   "display_name": "Python 3 (ipykernel)",
   "language": "python",
   "name": "python3"
  },
  "language_info": {
   "codemirror_mode": {
    "name": "ipython",
    "version": 3
   },
   "file_extension": ".py",
   "mimetype": "text/x-python",
   "name": "python",
   "nbconvert_exporter": "python",
   "pygments_lexer": "ipython3",
   "version": "3.12.4"
  }
 },
 "nbformat": 4,
 "nbformat_minor": 5
}
